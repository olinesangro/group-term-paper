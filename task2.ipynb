{
 "cells": [
  {
   "cell_type": "markdown",
   "metadata": {},
   "source": [
    "TASK 2"
   ]
  },
  {
   "cell_type": "markdown",
   "metadata": {},
   "source": [
    "1 Import the data and store it in a DataFrame"
   ]
  },
  {
   "cell_type": "code",
   "execution_count": 1,
   "metadata": {},
   "outputs": [],
   "source": [
    "import pandas as pd\n",
    "import glob\n",
    "import matplotlib.pyplot as plt\n",
    "\n",
    "DATA_PATH = './data/DayAheadPrices_12.1.D'\n",
    "pattern = f'{DATA_PATH}/*_DayAheadPrices_12.1.D.csv'\n",
    "\n",
    "data = []\n",
    "\n",
    "# Read and concatenate all CSV files matching the pattern\n",
    "for file in glob.glob(pattern):\n",
    "    df = pd.read_csv(file, sep='\\t', parse_dates=['DateTime'])\n",
    "    data.append(df)\n",
    "\n",
    "df = pd.concat(data, axis=0)"
   ]
  },
  {
   "cell_type": "markdown",
   "metadata": {},
   "source": [
    "2 Filter out the information needed:"
   ]
  },
  {
   "cell_type": "code",
   "execution_count": 2,
   "metadata": {},
   "outputs": [
    {
     "name": "stderr",
     "output_type": "stream",
     "text": [
      "/var/folders/y4/gl2xyrs54895pt53xrb295h40000gn/T/ipykernel_52241/1138970440.py:8: SettingWithCopyWarning: \n",
      "A value is trying to be set on a copy of a slice from a DataFrame.\n",
      "Try using .loc[row_indexer,col_indexer] = value instead\n",
      "\n",
      "See the caveats in the documentation: https://pandas.pydata.org/pandas-docs/stable/user_guide/indexing.html#returning-a-view-versus-a-copy\n",
      "  df_filtered['Year'] = df_filtered['DateTime'].dt.year\n"
     ]
    }
   ],
   "source": [
    "# The necessary columns extracted from the DataFrame\n",
    "df = df[['DateTime', 'ResolutionCode', 'MapCode', 'Price']]\n",
    "\n",
    "# Filter for NO2 and DE MapCodes and hourly data\n",
    "df_filtered = df.query(\"MapCode in ['NO2', 'DE_LU'] and ResolutionCode == 'PT60M'\")\n",
    "\n",
    "# Extract the year from DateTime and add as a new column\n",
    "df_filtered['Year'] = df_filtered['DateTime'].dt.year\n",
    "\n",
    "# If you want to keep df as df_filtered with the new 'Year' column\n",
    "df = df_filtered\n"
   ]
  },
  {
   "cell_type": "markdown",
   "metadata": {},
   "source": [
    "3 Create the Excel-table"
   ]
  },
  {
   "cell_type": "code",
   "execution_count": 3,
   "metadata": {},
   "outputs": [],
   "source": [
    "# Group by Year and MapCode (NO2, DE), and calculate statistics\n",
    "stats = df.groupby(['Year', 'MapCode']).agg(\n",
    "    Mean=('Price', 'mean'),\n",
    "    Median=('Price', 'median'),\n",
    "    StdDev=('Price', 'std'),\n",
    "    Min=('Price', 'min'),\n",
    "    Max=('Price', 'max')\n",
    ").reset_index()\n",
    "\n",
    "# Round the results to two decimal places\n",
    "stats = stats.round(2)\n",
    "\n",
    "# Save the DataFrame to an Excel file in the project folder\n",
    "stats.to_excel('./table_task2.xlsx', index=False, header=True)\n"
   ]
  },
  {
   "cell_type": "markdown",
   "metadata": {},
   "source": [
    "Conclusion: \n",
    "From the table you see that the prices in both regions increases in the average price from 2019 to 2022, with some variety in 2023.\n",
    "In Germany, there is a notabile higher standard deviation in 2021 and 2022, that could be connected to price fluctuations. \n",
    "In 2023, Germany had a minimum price of -500.00, indicationg periods of negative electricity prices, likely due to an overproduction of energy. \n",
    "For Norway it is visible that "
   ]
  }
 ],
 "metadata": {
  "kernelspec": {
   "display_name": "base",
   "language": "python",
   "name": "python3"
  },
  "language_info": {
   "codemirror_mode": {
    "name": "ipython",
    "version": 3
   },
   "file_extension": ".py",
   "mimetype": "text/x-python",
   "name": "python",
   "nbconvert_exporter": "python",
   "pygments_lexer": "ipython3",
   "version": "3.12.2"
  }
 },
 "nbformat": 4,
 "nbformat_minor": 2
}
